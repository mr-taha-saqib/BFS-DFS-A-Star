{
  "nbformat": 4,
  "nbformat_minor": 0,
  "metadata": {
    "colab": {
      "provenance": []
    },
    "kernelspec": {
      "name": "python3",
      "display_name": "Python 3"
    },
    "language_info": {
      "name": "python"
    }
  },
  "cells": [
    {
      "cell_type": "code",
      "execution_count": null,
      "metadata": {
        "id": "HjSeQQiPIUp2"
      },
      "outputs": [],
      "source": [
        "#Q1\n",
        "def read_cube_data(file_name):\n",
        "    cube_data = []\n",
        "    with open(file_name, 'r') as file:\n",
        "        for line in file:\n",
        "            cube_data.append(line.split())\n",
        "    return cube_data\n",
        "\n",
        "def dfs(cube_data):\n",
        "    stack, visited, path = [(0, 0)], set(), []\n",
        "\n",
        "    while stack:\n",
        "        x, y = stack.pop()\n",
        "        if 0 <= x < len(cube_data) and 0 <= y < len(cube_data[0]) and (x, y) not in visited:\n",
        "            if cube_data[x][y] == 'G':\n",
        "                return path + [(x, y)]\n",
        "            visited.add((x, y))\n",
        "            path.append((x, y))\n",
        "            stack.extend([(x+1, y), (x, y+1), (x-1, y), (x, y-1)])\n",
        "\n",
        "    return -1\n",
        "\n",
        "def bfs(cube_data):\n",
        "    queue, visited, path = [(0, 0)], set(), []\n",
        "\n",
        "    while queue:\n",
        "        x, y = queue.pop(0)\n",
        "        if 0 <= x < len(cube_data) and 0 <= y < len(cube_data[0]) and (x, y) not in visited:\n",
        "            if cube_data[x][y] == 'G':\n",
        "                return path + [(x, y)]\n",
        "            visited.add((x, y))\n",
        "            path.append((x, y))\n",
        "            queue.extend([(x+1, y), (x, y+1), (x-1, y), (x, y-1)])\n",
        "\n",
        "    return -1"
      ]
    },
    {
      "cell_type": "code",
      "source": [
        "cube = read_cube_data(\"cube.txt\")\n",
        "dfs_path = dfs(cube)\n",
        "print(\"DFS Path is:\", dfs_path)\n",
        "bfs_path = bfs(cube)\n",
        "print(\"BFS Path is:\", bfs_path)"
      ],
      "metadata": {
        "colab": {
          "base_uri": "https://localhost:8080/"
        },
        "id": "Oy1uS6oBJL4p",
        "outputId": "9233441b-6c11-4c65-fa38-76238d92dea8"
      },
      "execution_count": null,
      "outputs": [
        {
          "output_type": "stream",
          "name": "stdout",
          "text": [
            "DFS Path is: [(0, 0), (0, 1), (0, 2), (0, 3), (0, 4), (0, 5), (0, 6), (1, 6), (1, 5), (1, 4), (1, 3), (1, 2), (1, 1), (1, 0), (2, 0), (2, 1), (2, 2), (2, 3), (2, 4), (2, 5), (2, 6), (3, 6), (3, 5), (3, 4), (3, 3), (3, 2), (3, 1), (3, 0), (4, 0), (4, 1), (4, 2), (4, 3), (4, 4), (4, 5), (4, 6), (5, 6), (5, 5), (5, 4), (5, 3), (5, 2), (5, 1), (5, 0), (6, 0)]\n",
            "BFS Path is: [(0, 0), (1, 0), (0, 1), (2, 0), (1, 1), (0, 2), (3, 0), (2, 1), (1, 2), (0, 3), (4, 0), (3, 1), (2, 2), (1, 3), (0, 4), (5, 0), (4, 1), (3, 2), (2, 3), (1, 4), (0, 5), (6, 0)]\n"
          ]
        }
      ]
    },
    {
      "cell_type": "code",
      "source": [
        "#Q2\n",
        "import heapq\n",
        "def read_cube(cube_file):\n",
        "    with open(cube_file, 'r') as file:\n",
        "        cube = [[int(num) if num.isdigit() else num for num in line.split()] for line in file]\n",
        "    return cube\n",
        "\n",
        "def find_start(cube):\n",
        "    for i in range(len(cube)):\n",
        "        for j in range(len(cube[0])):\n",
        "            if cube[i][j] == 'S':\n",
        "                return (i, j)\n",
        "\n",
        "def find_goal(cube):\n",
        "    for i in range(len(cube)):\n",
        "        for j in range(len(cube[0])):\n",
        "            if cube[i][j] == 'G':\n",
        "                return (i, j)\n",
        "\n",
        "def heuristic(cube, x, y):\n",
        "    return sum(1 for i in range(x+1,len(cube)) if cube[i][y] == 2)\n",
        "\n",
        "def a_star_search(cube, start, goal):\n",
        "    directions = [(-1, 0), (1, 0), (0, -1), (0, 1)]\n",
        "    heap = [(0, 0, start[0], start[1], [])]  # (f_cost, g_cost, x, y, path)\n",
        "    visited = set()\n",
        "\n",
        "    while heap:\n",
        "        f_cost, g_cost, x, y, path = heapq.heappop(heap)\n",
        "\n",
        "        if (x, y) == goal:\n",
        "            return path\n",
        "\n",
        "        if (x, y) in visited:\n",
        "            continue\n",
        "\n",
        "        visited.add((x, y))\n",
        "\n",
        "        for dx, dy in directions:\n",
        "            new_x, new_y = x + dx, y + dy\n",
        "\n",
        "            if 0 <= new_x < len(cube) and 0 <= new_y < len(cube[0]) and (new_x, new_y) not in visited:\n",
        "                new_g_cost = g_cost + 1\n",
        "                new_f_cost = new_g_cost + heuristic(cube, new_x, new_y)\n",
        "                heapq.heappush(heap, (new_f_cost, new_g_cost, new_x, new_y, path + [(new_x, new_y)]))\n",
        "\n",
        "def solve_cube(cube_file):\n",
        "    cube = read_cube(cube_file)\n",
        "    start = find_start(cube)\n",
        "    goal = find_goal(cube)\n",
        "    path = a_star_search(cube, start, goal)\n",
        "    return path\n",
        "\n",
        "sample_cube_path = \"cube1.txt\"\n",
        "solution_path = solve_cube(sample_cube_path)\n",
        "print('A*: ',solution_path)"
      ],
      "metadata": {
        "colab": {
          "base_uri": "https://localhost:8080/"
        },
        "id": "ZY47Myg2JL2M",
        "outputId": "b6e52172-a6c5-4fac-cc79-f3d61dfa7329"
      },
      "execution_count": null,
      "outputs": [
        {
          "output_type": "stream",
          "name": "stdout",
          "text": [
            "A*:  [(0, 1), (0, 0), (1, 0), (2, 0), (3, 0), (4, 0), (5, 0), (6, 0)]\n"
          ]
        }
      ]
    }
  ]
}